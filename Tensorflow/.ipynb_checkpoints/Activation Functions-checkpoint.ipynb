{
 "cells": [
  {
   "cell_type": "code",
   "execution_count": 1,
   "id": "a7ddd6e9-75c8-43b0-b629-cfffcd36726d",
   "metadata": {},
   "outputs": [],
   "source": [
    "import math"
   ]
  },
  {
   "cell_type": "code",
   "execution_count": 19,
   "id": "99f16601-08ce-4fb0-a13f-98e3bdc51f85",
   "metadata": {},
   "outputs": [],
   "source": [
    "def sigmoid(x):\n",
    "    return 1 / (1 + math.exp(-x))\n",
    "# sigmoid function returns the value between 0 and 1"
   ]
  },
  {
   "cell_type": "code",
   "execution_count": 3,
   "id": "72802d01-5db3-4ee7-8786-ac3922524021",
   "metadata": {},
   "outputs": [
    {
     "data": {
      "text/plain": [
       "1.0"
      ]
     },
     "execution_count": 3,
     "metadata": {},
     "output_type": "execute_result"
    }
   ],
   "source": [
    "sigmoid(100)"
   ]
  },
  {
   "cell_type": "code",
   "execution_count": 4,
   "id": "ec774a21-3bc4-4284-bba4-c1a6f9ce51c4",
   "metadata": {},
   "outputs": [
    {
     "data": {
      "text/plain": [
       "0.7310585786300049"
      ]
     },
     "execution_count": 4,
     "metadata": {},
     "output_type": "execute_result"
    }
   ],
   "source": [
    "sigmoid(1)"
   ]
  },
  {
   "cell_type": "code",
   "execution_count": 5,
   "id": "d212232b-8637-4fcc-a2b8-4758ef786f97",
   "metadata": {},
   "outputs": [
    {
     "data": {
      "text/plain": [
       "3.7200759760208356e-44"
      ]
     },
     "execution_count": 5,
     "metadata": {},
     "output_type": "execute_result"
    }
   ],
   "source": [
    "sigmoid(-100)"
   ]
  },
  {
   "cell_type": "code",
   "execution_count": 20,
   "id": "b6e11982-d963-450d-9848-b02e4dde65e6",
   "metadata": {},
   "outputs": [],
   "source": [
    "def tanh(x):\n",
    "    return (math.exp(x) - math.exp(-x)) / (math.exp(x) + math.exp(-x))\n",
    "# tanh function returns the value between -1 and 1"
   ]
  },
  {
   "cell_type": "code",
   "execution_count": 7,
   "id": "7dd1f96b-926e-4bc6-92a5-995ec1e29b15",
   "metadata": {},
   "outputs": [
    {
     "data": {
      "text/plain": [
       "-1.0"
      ]
     },
     "execution_count": 7,
     "metadata": {},
     "output_type": "execute_result"
    }
   ],
   "source": [
    "tanh(-56)"
   ]
  },
  {
   "cell_type": "code",
   "execution_count": 8,
   "id": "6e33b0c6-896b-44d2-a82d-91621206e401",
   "metadata": {},
   "outputs": [
    {
     "data": {
      "text/plain": [
       "1.0"
      ]
     },
     "execution_count": 8,
     "metadata": {},
     "output_type": "execute_result"
    }
   ],
   "source": [
    "tanh(65)"
   ]
  },
  {
   "cell_type": "code",
   "execution_count": 21,
   "id": "adf3336f-a821-4b60-bb1c-0361424046cd",
   "metadata": {},
   "outputs": [],
   "source": [
    "def relu(x):\n",
    "    return max(0, x)\n",
    "# relu function returns the number which you have passed in it if it is greater than 0, otherwise it will return 0"
   ]
  },
  {
   "cell_type": "code",
   "execution_count": 10,
   "id": "9f79dde8-913b-4200-ab32-a0428e37718b",
   "metadata": {},
   "outputs": [
    {
     "data": {
      "text/plain": [
       "56"
      ]
     },
     "execution_count": 10,
     "metadata": {},
     "output_type": "execute_result"
    }
   ],
   "source": [
    "relu(56)"
   ]
  },
  {
   "cell_type": "code",
   "execution_count": 11,
   "id": "4ef2c6d3-d11b-44a5-9e8d-e66fafee1944",
   "metadata": {},
   "outputs": [
    {
     "data": {
      "text/plain": [
       "2"
      ]
     },
     "execution_count": 11,
     "metadata": {},
     "output_type": "execute_result"
    }
   ],
   "source": [
    "relu(2)"
   ]
  },
  {
   "cell_type": "code",
   "execution_count": 22,
   "id": "1735fc99-f173-4263-8bab-57b7ccf09857",
   "metadata": {},
   "outputs": [],
   "source": [
    "def leaky_relu(x):\n",
    "    return max(0.1 * x, x)\n",
    "# leaky relu function returns the number which you have passed in it if its positive, otherwise if its a negative number so it will multiply it by 0.1 and then return that value"
   ]
  },
  {
   "cell_type": "code",
   "execution_count": 13,
   "id": "07d797b0-5af0-45f9-978f-07a72e57dcc9",
   "metadata": {},
   "outputs": [
    {
     "data": {
      "text/plain": [
       "100"
      ]
     },
     "execution_count": 13,
     "metadata": {},
     "output_type": "execute_result"
    }
   ],
   "source": [
    "leaky_relu(100)"
   ]
  },
  {
   "cell_type": "code",
   "execution_count": 14,
   "id": "9d205609-9baf-40eb-b7ca-c4dc99456edc",
   "metadata": {},
   "outputs": [
    {
     "data": {
      "text/plain": [
       "-10.0"
      ]
     },
     "execution_count": 14,
     "metadata": {},
     "output_type": "execute_result"
    }
   ],
   "source": [
    "leaky_relu(-100)"
   ]
  },
  {
   "cell_type": "code",
   "execution_count": 18,
   "id": "68a6ce55-4bf1-47f9-b6ea-2b02c36af040",
   "metadata": {},
   "outputs": [
    {
     "name": "stdout",
     "output_type": "stream",
     "text": [
      "-10.0\n",
      "-9.9\n",
      "-9.8\n",
      "-9.700000000000001\n",
      "-9.600000000000001\n",
      "-9.5\n",
      "-9.4\n",
      "-9.3\n",
      "-9.200000000000001\n",
      "-9.1\n",
      "-9.0\n",
      "-8.9\n",
      "-8.8\n",
      "-8.700000000000001\n",
      "-8.6\n",
      "-8.5\n",
      "-8.4\n",
      "-8.3\n",
      "-8.200000000000001\n",
      "-8.1\n",
      "-8.0\n",
      "-7.9\n",
      "-7.800000000000001\n",
      "-7.7\n",
      "-7.6000000000000005\n",
      "-7.5\n",
      "-7.4\n",
      "-7.300000000000001\n",
      "-7.2\n",
      "-7.1000000000000005\n",
      "-7.0\n",
      "-6.9\n",
      "-6.800000000000001\n",
      "-6.7\n",
      "-6.6000000000000005\n",
      "-6.5\n",
      "-6.4\n",
      "-6.300000000000001\n",
      "-6.2\n",
      "-6.1000000000000005\n",
      "-6.0\n",
      "-5.9\n",
      "-5.800000000000001\n",
      "-5.7\n",
      "-5.6000000000000005\n",
      "-5.5\n",
      "-5.4\n",
      "-5.300000000000001\n",
      "-5.2\n",
      "-5.1000000000000005\n",
      "-5.0\n",
      "-4.9\n",
      "-4.800000000000001\n",
      "-4.7\n",
      "-4.6000000000000005\n",
      "-4.5\n",
      "-4.4\n",
      "-4.3\n",
      "-4.2\n",
      "-4.1000000000000005\n",
      "-4.0\n",
      "-3.9000000000000004\n",
      "-3.8000000000000003\n",
      "-3.7\n",
      "-3.6\n",
      "-3.5\n",
      "-3.4000000000000004\n",
      "-3.3000000000000003\n",
      "-3.2\n",
      "-3.1\n",
      "-3.0\n",
      "-2.9000000000000004\n",
      "-2.8000000000000003\n",
      "-2.7\n",
      "-2.6\n",
      "-2.5\n",
      "-2.4000000000000004\n",
      "-2.3000000000000003\n",
      "-2.2\n",
      "-2.1\n",
      "-2.0\n",
      "-1.9000000000000001\n",
      "-1.8\n",
      "-1.7000000000000002\n",
      "-1.6\n",
      "-1.5\n",
      "-1.4000000000000001\n",
      "-1.3\n",
      "-1.2000000000000002\n",
      "-1.1\n",
      "-1.0\n",
      "-0.9\n",
      "-0.8\n",
      "-0.7000000000000001\n",
      "-0.6000000000000001\n",
      "-0.5\n",
      "-0.4\n",
      "-0.30000000000000004\n",
      "-0.2\n",
      "-0.1\n",
      "0.0\n",
      "1\n",
      "2\n",
      "3\n",
      "4\n",
      "5\n",
      "6\n",
      "7\n",
      "8\n",
      "9\n",
      "10\n",
      "11\n",
      "12\n",
      "13\n",
      "14\n",
      "15\n",
      "16\n",
      "17\n",
      "18\n",
      "19\n",
      "20\n",
      "21\n",
      "22\n",
      "23\n",
      "24\n",
      "25\n",
      "26\n",
      "27\n",
      "28\n",
      "29\n",
      "30\n",
      "31\n",
      "32\n",
      "33\n",
      "34\n",
      "35\n",
      "36\n",
      "37\n",
      "38\n",
      "39\n",
      "40\n",
      "41\n",
      "42\n",
      "43\n",
      "44\n",
      "45\n",
      "46\n",
      "47\n",
      "48\n",
      "49\n",
      "50\n",
      "51\n",
      "52\n",
      "53\n",
      "54\n",
      "55\n",
      "56\n",
      "57\n",
      "58\n",
      "59\n",
      "60\n",
      "61\n",
      "62\n",
      "63\n",
      "64\n",
      "65\n",
      "66\n",
      "67\n",
      "68\n",
      "69\n",
      "70\n",
      "71\n",
      "72\n",
      "73\n",
      "74\n",
      "75\n",
      "76\n",
      "77\n",
      "78\n",
      "79\n",
      "80\n",
      "81\n",
      "82\n",
      "83\n",
      "84\n",
      "85\n",
      "86\n",
      "87\n",
      "88\n",
      "89\n",
      "90\n",
      "91\n",
      "92\n",
      "93\n",
      "94\n",
      "95\n",
      "96\n",
      "97\n",
      "98\n",
      "99\n"
     ]
    }
   ],
   "source": [
    "for i in range(-100, 100):\n",
    "    print(leaky_relu(i))"
   ]
  },
  {
   "cell_type": "code",
   "execution_count": null,
   "id": "a2553a45-b935-469d-8562-cb677958f161",
   "metadata": {},
   "outputs": [],
   "source": []
  }
 ],
 "metadata": {
  "kernelspec": {
   "display_name": "Python 3 (ipykernel)",
   "language": "python",
   "name": "python3"
  },
  "language_info": {
   "codemirror_mode": {
    "name": "ipython",
    "version": 3
   },
   "file_extension": ".py",
   "mimetype": "text/x-python",
   "name": "python",
   "nbconvert_exporter": "python",
   "pygments_lexer": "ipython3",
   "version": "3.11.6"
  }
 },
 "nbformat": 4,
 "nbformat_minor": 5
}
