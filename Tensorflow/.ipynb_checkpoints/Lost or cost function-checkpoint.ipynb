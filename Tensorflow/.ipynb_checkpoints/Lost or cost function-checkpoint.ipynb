{
 "cells": [
  {
   "cell_type": "code",
   "execution_count": 1,
   "id": "b180398c-19e9-408e-b16e-96b2f13a26ba",
   "metadata": {},
   "outputs": [],
   "source": [
    "import numpy as np"
   ]
  },
  {
   "cell_type": "code",
   "execution_count": 2,
   "id": "dda2fe1c-e70d-4eb7-9625-8f718e883473",
   "metadata": {},
   "outputs": [],
   "source": [
    "y_predicted = np.array([1, 1, 0, 0, 1])\n",
    "y_true = np.array([0.3, 0.7, 1, 0, 0.5])"
   ]
  },
  {
   "cell_type": "code",
   "execution_count": 22,
   "id": "6f0f7224-4573-4225-9459-01a6af7a40a2",
   "metadata": {},
   "outputs": [],
   "source": [
    "def mean_absolute_error(y_true, y_predicted): # mean absolute error is also called cost function\n",
    "    total_error = 0\n",
    "    n = len(y_true)\n",
    "    for true_value, predicted_value in zip(y_true, y_predicted):\n",
    "        error = abs(true_value - predicted_value) # error is called loss\n",
    "        print(error)\n",
    "        total_error += error\n",
    "    mae = (1 / n) * total_error\n",
    "    return f\"Total error = {total_error} and Mean Absolute Error is {mae}\""
   ]
  },
  {
   "cell_type": "code",
   "execution_count": 23,
   "id": "b627088b-89ed-4705-bf39-9b07910d3e7a",
   "metadata": {},
   "outputs": [
    {
     "name": "stdout",
     "output_type": "stream",
     "text": [
      "0.7\n",
      "0.30000000000000004\n",
      "1.0\n",
      "0.0\n",
      "0.5\n"
     ]
    },
    {
     "data": {
      "text/plain": [
       "'Total error = 2.5 and Mean Absolute Error is 0.5'"
      ]
     },
     "execution_count": 23,
     "metadata": {},
     "output_type": "execute_result"
    }
   ],
   "source": [
    "mean_absolute_error(y_true, y_predicted)"
   ]
  },
  {
   "cell_type": "markdown",
   "id": "db5ac1b9-cb4a-41ba-bbf4-6092ef7ade47",
   "metadata": {},
   "source": [
    "#### instead of writing the whole function above you can take out the mae of the predictions and actual value by this formula"
   ]
  },
  {
   "cell_type": "code",
   "execution_count": 28,
   "id": "82360832-cbe5-4553-b510-0e2148fc2a7a",
   "metadata": {},
   "outputs": [
    {
     "data": {
      "text/plain": [
       "0.5"
      ]
     },
     "execution_count": 28,
     "metadata": {},
     "output_type": "execute_result"
    }
   ],
   "source": [
    "np.mean(np.abs(y_predicted - y_true)) #abs fucntion converts any negative integer into positive"
   ]
  },
  {
   "cell_type": "code",
   "execution_count": 45,
   "id": "8d35a777-2188-4158-b8c3-a4f432cb3378",
   "metadata": {},
   "outputs": [
    {
     "data": {
      "text/plain": [
       "[1, 1, 1e-15, 1e-15, 1]"
      ]
     },
     "execution_count": 45,
     "metadata": {},
     "output_type": "execute_result"
    }
   ],
   "source": [
    "epsilon = 1e-15\n",
    "\n",
    "y_predicted_new = [max(prediction, epsilon) for prediction in y_predicted]\n",
    "y_predicted_new"
   ]
  },
  {
   "cell_type": "code",
   "execution_count": 46,
   "id": "c05aebf1-6c52-4f5d-9b88-45dcec9dc015",
   "metadata": {},
   "outputs": [
    {
     "data": {
      "text/plain": [
       "[0.999999999999999, 0.999999999999999, 1e-15, 1e-15, 0.999999999999999]"
      ]
     },
     "execution_count": 46,
     "metadata": {},
     "output_type": "execute_result"
    }
   ],
   "source": [
    "y_predicted_new = [min(prediction, 1- epsilon) for prediction in y_predicted_new]\n",
    "y_predicted_new"
   ]
  },
  {
   "cell_type": "code",
   "execution_count": 47,
   "id": "8e37ff3e-e114-4e3c-b57d-bf20fb490f2c",
   "metadata": {},
   "outputs": [
    {
     "data": {
      "text/plain": [
       "array([-9.99200722e-16, -9.99200722e-16, -3.45387764e+01, -3.45387764e+01,\n",
       "       -9.99200722e-16])"
      ]
     },
     "execution_count": 47,
     "metadata": {},
     "output_type": "execute_result"
    }
   ],
   "source": [
    "y_predicted_new = np.array(y_predicted_new)\n",
    "np.log(y_predicted_new)"
   ]
  },
  {
   "cell_type": "code",
   "execution_count": null,
   "id": "21e18d94-cbae-4181-845e-3e77713229c7",
   "metadata": {},
   "outputs": [],
   "source": []
  }
 ],
 "metadata": {
  "kernelspec": {
   "display_name": "Python 3 (ipykernel)",
   "language": "python",
   "name": "python3"
  },
  "language_info": {
   "codemirror_mode": {
    "name": "ipython",
    "version": 3
   },
   "file_extension": ".py",
   "mimetype": "text/x-python",
   "name": "python",
   "nbconvert_exporter": "python",
   "pygments_lexer": "ipython3",
   "version": "3.11.6"
  }
 },
 "nbformat": 4,
 "nbformat_minor": 5
}
