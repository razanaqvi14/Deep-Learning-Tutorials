{
 "cells": [
  {
   "cell_type": "code",
   "execution_count": 1,
   "id": "b180398c-19e9-408e-b16e-96b2f13a26ba",
   "metadata": {},
   "outputs": [],
   "source": [
    "import numpy as np"
   ]
  },
  {
   "cell_type": "code",
   "execution_count": 2,
   "id": "dda2fe1c-e70d-4eb7-9625-8f718e883473",
   "metadata": {},
   "outputs": [],
   "source": [
    "y_true = np.array([1, 1, 0, 0, 1])\n",
    "y_predicted = np.array([0.3, 0.7, 1, 0, 0.5])"
   ]
  },
  {
   "cell_type": "markdown",
   "id": "b71a9df9-af38-43bb-943d-b05dc64b1b0b",
   "metadata": {},
   "source": [
    "# Mean Absolute Error"
   ]
  },
  {
   "cell_type": "code",
   "execution_count": 3,
   "id": "6f0f7224-4573-4225-9459-01a6af7a40a2",
   "metadata": {},
   "outputs": [],
   "source": [
    "def mean_absolute_error(y_true, y_predicted): # mean absolute error is also called cost function\n",
    "    total_error = 0\n",
    "    n = len(y_true)\n",
    "    for true_value, predicted_value in zip(y_true, y_predicted):\n",
    "        error = abs(true_value - predicted_value) # error is called loss\n",
    "        print(error)\n",
    "        total_error += error\n",
    "    mae = (1 / n) * total_error\n",
    "    return f\"Total error = {total_error} and Mean Absolute Error is {mae}\""
   ]
  },
  {
   "cell_type": "code",
   "execution_count": 4,
   "id": "b627088b-89ed-4705-bf39-9b07910d3e7a",
   "metadata": {},
   "outputs": [
    {
     "name": "stdout",
     "output_type": "stream",
     "text": [
      "0.7\n",
      "0.30000000000000004\n",
      "1.0\n",
      "0.0\n",
      "0.5\n"
     ]
    },
    {
     "data": {
      "text/plain": [
       "'Total error = 2.5 and Mean Absolute Error is 0.5'"
      ]
     },
     "execution_count": 4,
     "metadata": {},
     "output_type": "execute_result"
    }
   ],
   "source": [
    "mean_absolute_error(y_true, y_predicted)"
   ]
  },
  {
   "cell_type": "markdown",
   "id": "db5ac1b9-cb4a-41ba-bbf4-6092ef7ade47",
   "metadata": {},
   "source": [
    "#### instead of writing the whole function above you can take out the mae of the predictions and actual value by this formula"
   ]
  },
  {
   "cell_type": "code",
   "execution_count": 5,
   "id": "f6d6e118-ae1d-42b4-94f9-b043995cb042",
   "metadata": {},
   "outputs": [
    {
     "data": {
      "text/plain": [
       "array([0.7, 0.3, 1. , 0. , 0.5])"
      ]
     },
     "execution_count": 5,
     "metadata": {},
     "output_type": "execute_result"
    }
   ],
   "source": [
    "# np.abs returns an array by subtracting each value of y_true with corresponding of y_pred\n",
    "\n",
    "np.abs(y_predicted - y_true)"
   ]
  },
  {
   "cell_type": "code",
   "execution_count": 6,
   "id": "82360832-cbe5-4553-b510-0e2148fc2a7a",
   "metadata": {},
   "outputs": [
    {
     "data": {
      "text/plain": [
       "0.5"
      ]
     },
     "execution_count": 6,
     "metadata": {},
     "output_type": "execute_result"
    }
   ],
   "source": [
    "# np.mean returns the sum of the array and multiplying it by 1 / n\n",
    "\n",
    "np.mean(np.abs(y_predicted - y_true)) #abs fucntion converts any negative integer into positive"
   ]
  },
  {
   "cell_type": "markdown",
   "id": "84b5d270-571f-4c03-a3c2-9c8e3884e6a0",
   "metadata": {},
   "source": [
    "# Log Loss OR Binary Crossentorpy"
   ]
  },
  {
   "cell_type": "code",
   "execution_count": 7,
   "id": "8d35a777-2188-4158-b8c3-a4f432cb3378",
   "metadata": {},
   "outputs": [
    {
     "name": "stdout",
     "output_type": "stream",
     "text": [
      "[0.3 0.7 1.  0.  0.5]\n"
     ]
    },
    {
     "data": {
      "text/plain": [
       "[0.3, 0.7, 1.0, 1e-15, 0.5]"
      ]
     },
     "execution_count": 7,
     "metadata": {},
     "output_type": "execute_result"
    }
   ],
   "source": [
    "epsilon = 1e-15\n",
    "\n",
    "y_predicted_new = [max(prediction, epsilon) for prediction in y_predicted]\n",
    "print(y_predicted)\n",
    "y_predicted_new"
   ]
  },
  {
   "cell_type": "code",
   "execution_count": 8,
   "id": "c05aebf1-6c52-4f5d-9b88-45dcec9dc015",
   "metadata": {},
   "outputs": [
    {
     "name": "stdout",
     "output_type": "stream",
     "text": [
      "[0.3, 0.7, 1.0, 1e-15, 0.5]\n"
     ]
    },
    {
     "data": {
      "text/plain": [
       "[0.3, 0.7, 0.999999999999999, 1e-15, 0.5]"
      ]
     },
     "execution_count": 8,
     "metadata": {},
     "output_type": "execute_result"
    }
   ],
   "source": [
    "print(y_predicted_new)\n",
    "y_predicted_new = [min(prediction, 1- epsilon) for prediction in y_predicted_new]\n",
    "y_predicted_new"
   ]
  },
  {
   "cell_type": "code",
   "execution_count": 9,
   "id": "8e37ff3e-e114-4e3c-b57d-bf20fb490f2c",
   "metadata": {},
   "outputs": [
    {
     "data": {
      "text/plain": [
       "array([-1.20397280e+00, -3.56674944e-01, -9.99200722e-16, -3.45387764e+01,\n",
       "       -6.93147181e-01])"
      ]
     },
     "execution_count": 9,
     "metadata": {},
     "output_type": "execute_result"
    }
   ],
   "source": [
    "y_predicted_new = np.array(y_predicted_new)\n",
    "np.log(y_predicted_new)"
   ]
  },
  {
   "cell_type": "code",
   "execution_count": 10,
   "id": "21e18d94-cbae-4181-845e-3e77713229c7",
   "metadata": {},
   "outputs": [
    {
     "data": {
      "text/plain": [
       "7.40943316999802"
      ]
     },
     "execution_count": 10,
     "metadata": {},
     "output_type": "execute_result"
    }
   ],
   "source": [
    "# log loss/binary crossentropy = -(1 / n) * summation ((y * log(y hat)) + (1 - y) * log(1 - y hat))\n",
    "\n",
    "- np.mean((y_true * np.log(y_predicted_new)) + (1 - y_true) + (np.log(1 - y_predicted_new)))"
   ]
  },
  {
   "cell_type": "code",
   "execution_count": 11,
   "id": "0b964f08-d184-4647-abe6-26bea18bc25b",
   "metadata": {},
   "outputs": [],
   "source": [
    "def log_loss(y_true, y_predicted):\n",
    "    y_predicted_new = [max(prediction, epsilon) for prediction in y_predicted] # returns a list with 1 for 1 and epsilon for 0\n",
    "    y_predicted_new = [min(prediction, 1 - epsilon) for prediction in y_predicted_new] # returns a list with 0.9... for 1 and epsilon for epsilon\n",
    "    y_predicted_new = np.array(y_predicted_new) # returns an array\n",
    "    return (- np.mean((y_true * np.log(y_predicted_new)) + (1 - y_true) + (np.log(1 - y_predicted_new))))"
   ]
  },
  {
   "cell_type": "code",
   "execution_count": 12,
   "id": "d7d2ef3c-ee84-487f-9e02-e537896a1824",
   "metadata": {},
   "outputs": [
    {
     "data": {
      "text/plain": [
       "7.40943316999802"
      ]
     },
     "execution_count": 12,
     "metadata": {},
     "output_type": "execute_result"
    }
   ],
   "source": [
    "log_loss(y_true, y_predicted)"
   ]
  },
  {
   "cell_type": "code",
   "execution_count": 13,
   "id": "19ad88aa-15f5-40b2-b89d-85765925abeb",
   "metadata": {},
   "outputs": [],
   "source": [
    "from sklearn.metrics import log_loss"
   ]
  },
  {
   "cell_type": "code",
   "execution_count": 14,
   "id": "6c910ebc-5f04-46b2-a4b0-af3f2f4528a9",
   "metadata": {},
   "outputs": [],
   "source": [
    "loss = log_loss(y_true, y_predicted)"
   ]
  },
  {
   "cell_type": "code",
   "execution_count": 15,
   "id": "6ec8ee9d-8f1f-40bf-aa40-38d5c2926381",
   "metadata": {},
   "outputs": [
    {
     "data": {
      "text/plain": [
       "7.659489663588355"
      ]
     },
     "execution_count": 15,
     "metadata": {},
     "output_type": "execute_result"
    }
   ],
   "source": [
    "loss"
   ]
  },
  {
   "cell_type": "markdown",
   "id": "6b37abdb-093f-4bc2-a0d8-b3832cc363c9",
   "metadata": {},
   "source": [
    "# Mean Squared Error"
   ]
  },
  {
   "cell_type": "code",
   "execution_count": 16,
   "id": "bd1cb149-c634-4b73-9385-50121c385551",
   "metadata": {},
   "outputs": [],
   "source": [
    "mse = np.mean((y_true - y_predicted) ** 2)"
   ]
  },
  {
   "cell_type": "code",
   "execution_count": 17,
   "id": "0f68846d-f1b2-4a50-b87d-6a4172ff6792",
   "metadata": {},
   "outputs": [
    {
     "data": {
      "text/plain": [
       "0.366"
      ]
     },
     "execution_count": 17,
     "metadata": {},
     "output_type": "execute_result"
    }
   ],
   "source": [
    "mse"
   ]
  },
  {
   "cell_type": "code",
   "execution_count": 18,
   "id": "7173b062-af7a-44fd-b53d-7f7bae319f4c",
   "metadata": {},
   "outputs": [
    {
     "name": "stdout",
     "output_type": "stream",
     "text": [
      "Mean Squared Error (MSE): 0.366\n"
     ]
    }
   ],
   "source": [
    "from sklearn.metrics import mean_squared_error\n",
    "\n",
    "mse = mean_squared_error(y_true, y_predicted)\n",
    "\n",
    "print(f'Mean Squared Error (MSE): {mse}')\n"
   ]
  },
  {
   "cell_type": "code",
   "execution_count": null,
   "id": "5ad506e6-ef32-49e0-bfea-dc1118bf1bb8",
   "metadata": {},
   "outputs": [],
   "source": []
  }
 ],
 "metadata": {
  "kernelspec": {
   "display_name": "Python 3 (ipykernel)",
   "language": "python",
   "name": "python3"
  },
  "language_info": {
   "codemirror_mode": {
    "name": "ipython",
    "version": 3
   },
   "file_extension": ".py",
   "mimetype": "text/x-python",
   "name": "python",
   "nbconvert_exporter": "python",
   "pygments_lexer": "ipython3",
   "version": "3.11.6"
  }
 },
 "nbformat": 4,
 "nbformat_minor": 5
}
