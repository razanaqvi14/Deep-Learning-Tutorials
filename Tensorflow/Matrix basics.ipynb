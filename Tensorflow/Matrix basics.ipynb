{
 "cells": [
  {
   "cell_type": "code",
   "execution_count": 1,
   "id": "c88befd4-342e-4a4a-8449-8b3d032205ad",
   "metadata": {},
   "outputs": [],
   "source": [
    "import numpy as np"
   ]
  },
  {
   "cell_type": "code",
   "execution_count": 7,
   "id": "dfd0227d-1456-4a0f-bfbb-c1eac89bf614",
   "metadata": {},
   "outputs": [],
   "source": [
    "expenses = np.array([\n",
    "    [80,90,100],\n",
    "    [10,16,20],\n",
    "    [8,10,10]\n",
    "])\n",
    "\n",
    "revenue = np.array([\n",
    "    [180, 200, 220],\n",
    "    [24, 36, 40],\n",
    "    [12, 18, 20]\n",
    "])"
   ]
  },
  {
   "cell_type": "code",
   "execution_count": 8,
   "id": "39e70ff6-e8ac-494e-bfe5-d8474c0ac169",
   "metadata": {},
   "outputs": [
    {
     "data": {
      "text/plain": [
       "array([[100, 110, 120],\n",
       "       [ 14,  20,  20],\n",
       "       [  4,   8,  10]])"
      ]
     },
     "execution_count": 8,
     "metadata": {},
     "output_type": "execute_result"
    }
   ],
   "source": [
    "profit = revenue - expenses\n",
    "profit"
   ]
  },
  {
   "cell_type": "code",
   "execution_count": 9,
   "id": "6611b89b-f9d8-423f-bff3-65a5534b3d36",
   "metadata": {},
   "outputs": [],
   "source": [
    "price_per_unit = np.array([1000,400,1200])\n",
    "\n",
    "units = np.array([\n",
    "    [30,40,50],\n",
    "    [5,10,15],\n",
    "    [2,5,7]\n",
    "])"
   ]
  },
  {
   "cell_type": "markdown",
   "id": "e8779f0e-3a15-47fc-9dfe-271c5a9cd5c8",
   "metadata": {},
   "source": [
    "## First way of multiplying 2 arrays"
   ]
  },
  {
   "cell_type": "code",
   "execution_count": 10,
   "id": "0e4660cc-782d-45e8-9953-0c4aca0a55d0",
   "metadata": {},
   "outputs": [
    {
     "data": {
      "text/plain": [
       "array([[30000, 16000, 60000],\n",
       "       [ 5000,  4000, 18000],\n",
       "       [ 2000,  2000,  8400]])"
      ]
     },
     "execution_count": 10,
     "metadata": {},
     "output_type": "execute_result"
    }
   ],
   "source": [
    "revenue_each_item = price_per_unit * units\n",
    "revenue_each_item"
   ]
  },
  {
   "cell_type": "markdown",
   "id": "2cf68af1-6461-4095-9240-105bbbe55c74",
   "metadata": {},
   "source": [
    "## second way of multiplying 2 arrays, i think second one is better"
   ]
  },
  {
   "cell_type": "code",
   "execution_count": 11,
   "id": "636cf24f-c46d-4ba2-96bc-94cab74f9fda",
   "metadata": {},
   "outputs": [
    {
     "data": {
      "text/plain": [
       "array([34400, 50000, 64400])"
      ]
     },
     "execution_count": 11,
     "metadata": {},
     "output_type": "execute_result"
    }
   ],
   "source": [
    "np.dot(price_per_unit, units)"
   ]
  },
  {
   "cell_type": "code",
   "execution_count": null,
   "id": "c3a84648-b121-46dc-bc93-e9a82a5d8177",
   "metadata": {},
   "outputs": [],
   "source": []
  }
 ],
 "metadata": {
  "kernelspec": {
   "display_name": "Python 3 (ipykernel)",
   "language": "python",
   "name": "python3"
  },
  "language_info": {
   "codemirror_mode": {
    "name": "ipython",
    "version": 3
   },
   "file_extension": ".py",
   "mimetype": "text/x-python",
   "name": "python",
   "nbconvert_exporter": "python",
   "pygments_lexer": "ipython3",
   "version": "3.11.6"
  }
 },
 "nbformat": 4,
 "nbformat_minor": 5
}
